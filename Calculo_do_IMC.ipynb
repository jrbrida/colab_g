{
  "nbformat": 4,
  "nbformat_minor": 0,
  "metadata": {
    "colab": {
      "provenance": [],
      "toc_visible": true,
      "authorship_tag": "ABX9TyN6+aEdDVSaSo5WduE7wL3Z",
      "include_colab_link": true
    },
    "kernelspec": {
      "name": "python3",
      "display_name": "Python 3"
    },
    "language_info": {
      "name": "python"
    }
  },
  "cells": [
    {
      "cell_type": "markdown",
      "metadata": {
        "id": "view-in-github",
        "colab_type": "text"
      },
      "source": [
        "<a href=\"https://colab.research.google.com/github/jrbrida/colab_g/blob/main/Calculo_do_IMC.ipynb\" target=\"_parent\"><img src=\"https://colab.research.google.com/assets/colab-badge.svg\" alt=\"Open In Colab\"/></a>"
      ]
    },
    {
      "cell_type": "code",
      "execution_count": 5,
      "metadata": {
        "colab": {
          "base_uri": "https://localhost:8080/"
        },
        "id": "rxsRzt_TAkLS",
        "outputId": "6b6085e3-685f-4056-a888-94186b1d7c5f"
      },
      "outputs": [
        {
          "output_type": "stream",
          "name": "stdout",
          "text": [
            "Hello Word!\n",
            "Digite seu peso: 95\n",
            "Digite sua altura: 1.65\n",
            "Seu IMC é: 34.894398530762174\n",
            "Obesidade\n"
          ]
        }
      ],
      "source": [
        "# cálculo do IMC\n",
        "print(\"Hello Word!\")\n",
        "peso = int(input(\"Digite seu peso: \"))\n",
        "altura = float(input(\"Digite sua altura: \"))\n",
        "imc = peso / altura**2\n",
        "print(f'Seu IMC é: {imc}')\n",
        "\n",
        "Resultado = imc\n",
        "if Resultado >= 18.5 and Resultado <= 24.9:\n",
        " print(\"Normal\")\n",
        "elif Resultado >= 25 and Resultado <= 29.9:\n",
        " print(\"Sobrepeso\")\n",
        "elif Resultado >= 30.0 and Resultado <= 39.9:\n",
        "  print(\"Obesidade\")\n",
        "\n",
        "\n",
        "\n"
      ]
    }
  ]
}
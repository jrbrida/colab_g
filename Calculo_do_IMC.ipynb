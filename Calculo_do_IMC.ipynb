{
  "nbformat": 4,
  "nbformat_minor": 0,
  "metadata": {
    "colab": {
      "provenance": [],
      "authorship_tag": "ABX9TyPp7GanDRE2wRUE99bBGSp/",
      "include_colab_link": true
    },
    "kernelspec": {
      "name": "python3",
      "display_name": "Python 3"
    },
    "language_info": {
      "name": "python"
    }
  },
  "cells": [
    {
      "cell_type": "markdown",
      "metadata": {
        "id": "view-in-github",
        "colab_type": "text"
      },
      "source": [
        "<a href=\"https://colab.research.google.com/github/jrbrida/colab_g/blob/main/Calculo_do_IMC.ipynb\" target=\"_parent\"><img src=\"https://colab.research.google.com/assets/colab-badge.svg\" alt=\"Open In Colab\"/></a>"
      ]
    },
    {
      "cell_type": "code",
      "execution_count": 22,
      "metadata": {
        "colab": {
          "base_uri": "https://localhost:8080/"
        },
        "id": "rxsRzt_TAkLS",
        "outputId": "0348f004-9b3c-4e2b-9e63-29992fb61821"
      },
      "outputs": [
        {
          "output_type": "stream",
          "name": "stdout",
          "text": [
            "Hello Word!\n",
            "Digite seu peso: 90\n",
            "Digite sua altura: 1.67\n",
            "32.2707877657858\n"
          ]
        }
      ],
      "source": [
        "# cálculo do IMC\n",
        "print(\"Hello Word!\")\n",
        "peso = int(input(\"Digite seu peso: \"))\n",
        "altura = float(input(\"Digite sua altura: \"))\n",
        "imc = peso / altura**2\n",
        "print(imc)"
      ]
    }
  ]
}
{
  "nbformat": 4,
  "nbformat_minor": 0,
  "metadata": {
    "colab": {
      "provenance": [],
      "toc_visible": true,
      "authorship_tag": "ABX9TyPqdee+cukoKIjGwsArrhDN",
      "include_colab_link": true
    },
    "kernelspec": {
      "name": "python3",
      "display_name": "Python 3"
    },
    "language_info": {
      "name": "python"
    }
  },
  "cells": [
    {
      "cell_type": "markdown",
      "metadata": {
        "id": "view-in-github",
        "colab_type": "text"
      },
      "source": [
        "<a href=\"https://colab.research.google.com/github/jrbrida/colab_g/blob/main/Calculo_do_IMC.ipynb\" target=\"_parent\"><img src=\"https://colab.research.google.com/assets/colab-badge.svg\" alt=\"Open In Colab\"/></a>"
      ]
    },
    {
      "cell_type": "code",
      "execution_count": 15,
      "metadata": {
        "colab": {
          "base_uri": "https://localhost:8080/"
        },
        "id": "rxsRzt_TAkLS",
        "outputId": "e03a2bc7-55cf-4988-a8da-77a27e6e9181"
      },
      "outputs": [
        {
          "output_type": "stream",
          "name": "stdout",
          "text": [
            "Hello Word!\n",
            "Digite seu peso: 60\n",
            "Digite sua altura: 1.65\n",
            "Seu IMC é: 22.04\n",
            "Parabéns você esta com seu IMC em 22.04 e seu resutado é NORMAL.\n"
          ]
        }
      ],
      "source": [
        "# cálculo do IMC\n",
        "print(\"Hello Word!\")\n",
        "peso = int(input(\"Digite seu peso: \"))\n",
        "altura = float(input(\"Digite sua altura: \"))\n",
        "imc = peso / altura**2\n",
        "print(f'Seu IMC é: {imc:,.2f}')\n",
        "\n",
        "Resultado = imc\n",
        "if Resultado >= 18.5 and Resultado <= 24.9:\n",
        " print(f\"Parabéns você esta com seu IMC em {Resultado:,.2f} e seu resutado é NORMAL.\")\n",
        "elif Resultado >= 25 and Resultado <= 29.9:\n",
        " print(f\"Atenção você esta com seu IMC em {Resultado:,.2f} e seu resultado é SOBREPESO e precisa de cuidados.\")\n",
        "elif Resultado >= 30.0 and Resultado <= 39.9:\n",
        "  print(f\"URGENTE seu IMC é {Resultado:,.2f} e você esta com OBESIDADE, procure um médico!\")\n",
        "\n",
        "\n",
        "\n"
      ]
    }
  ]
}